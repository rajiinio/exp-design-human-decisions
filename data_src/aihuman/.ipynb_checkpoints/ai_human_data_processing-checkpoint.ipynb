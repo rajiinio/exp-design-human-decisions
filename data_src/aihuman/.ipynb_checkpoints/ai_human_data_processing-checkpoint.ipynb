{
 "cells": [
  {
   "cell_type": "code",
   "execution_count": 1,
   "id": "6de495d5-b148-452d-89fa-5afc3947cd85",
   "metadata": {},
   "outputs": [
    {
     "name": "stdout",
     "output_type": "stream",
     "text": [
      "Collecting pyreadr\n",
      "  Downloading pyreadr-0.5.0.tar.gz (2.3 MB)\n",
      "\u001b[2K     \u001b[90m━━━━━━━━━━━━━━━━━━━━━━━━━━━━━━━━━━━━━━━━\u001b[0m \u001b[32m2.3/2.3 MB\u001b[0m \u001b[31m12.7 MB/s\u001b[0m eta \u001b[36m0:00:00\u001b[0ma \u001b[36m0:00:01\u001b[0m\n",
      "\u001b[?25h  Installing build dependencies ... \u001b[?25ldone\n",
      "\u001b[?25h  Getting requirements to build wheel ... \u001b[?25ldone\n",
      "\u001b[?25h  Preparing metadata (pyproject.toml) ... \u001b[?25ldone\n",
      "\u001b[?25hRequirement already satisfied: pandas>=1.2.0 in /opt/anaconda3/lib/python3.11/site-packages (from pyreadr) (2.1.4)\n",
      "Requirement already satisfied: numpy<2,>=1.23.2 in /opt/anaconda3/lib/python3.11/site-packages (from pandas>=1.2.0->pyreadr) (1.26.4)\n",
      "Requirement already satisfied: python-dateutil>=2.8.2 in /opt/anaconda3/lib/python3.11/site-packages (from pandas>=1.2.0->pyreadr) (2.8.2)\n",
      "Requirement already satisfied: pytz>=2020.1 in /opt/anaconda3/lib/python3.11/site-packages (from pandas>=1.2.0->pyreadr) (2023.3.post1)\n",
      "Requirement already satisfied: tzdata>=2022.1 in /opt/anaconda3/lib/python3.11/site-packages (from pandas>=1.2.0->pyreadr) (2023.3)\n",
      "Requirement already satisfied: six>=1.5 in /opt/anaconda3/lib/python3.11/site-packages (from python-dateutil>=2.8.2->pandas>=1.2.0->pyreadr) (1.16.0)\n",
      "Building wheels for collected packages: pyreadr\n",
      "  Building wheel for pyreadr (pyproject.toml) ... \u001b[?25ldone\n",
      "\u001b[?25h  Created wheel for pyreadr: filename=pyreadr-0.5.0-cp311-cp311-macosx_10_9_x86_64.whl size=322813 sha256=20e5c12f6f47fcd9e367e5c3583e97ba6129cbccd60c8561d0fce705e2a56abe\n",
      "  Stored in directory: /Users/rajiinio/Library/Caches/pip/wheels/0c/cd/53/cb56b8224d621df8fafec95eeecb96d71dbd24823ec106b826\n",
      "Successfully built pyreadr\n",
      "Installing collected packages: pyreadr\n",
      "Successfully installed pyreadr-0.5.0\n"
     ]
    }
   ],
   "source": [
    "!pip install pyreadr"
   ]
  },
  {
   "cell_type": "code",
   "execution_count": null,
   "id": "f2299fb9-c9bc-44c4-8a7b-eba10ae242ec",
   "metadata": {},
   "outputs": [],
   "source": [
    "import pyreadr\n",
    "\n",
    "#https://github.com/ofajardo/pyreadr \n",
    "\n",
    "result = pyreadr.read_r('/path/to/file.RData') # also works for Rds\n",
    "\n",
    "# done! let's see what we got\n",
    "# result is a dictionary where keys are the name of objects and the values python\n",
    "# objects\n",
    "print(result.keys()) # let's check what objects we got\n",
    "df1 = result[\"df1\"] # extract the pandas data frame for object df1"
   ]
  }
 ],
 "metadata": {
  "kernelspec": {
   "display_name": "Python 3 (ipykernel)",
   "language": "python",
   "name": "python3"
  },
  "language_info": {
   "codemirror_mode": {
    "name": "ipython",
    "version": 3
   },
   "file_extension": ".py",
   "mimetype": "text/x-python",
   "name": "python",
   "nbconvert_exporter": "python",
   "pygments_lexer": "ipython3",
   "version": "3.11.7"
  }
 },
 "nbformat": 4,
 "nbformat_minor": 5
}
